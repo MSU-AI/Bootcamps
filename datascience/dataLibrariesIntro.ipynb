{
 "cells": [
  {
   "cell_type": "markdown",
   "id": "a28e027b-6d41-4603-9036-4b77818c9ffa",
   "metadata": {
    "tags": []
   },
   "source": [
    "# Welcome to the essentail Data Librarires Bootcamp!\n",
    "\n",
    "## Intro\n",
    "In this bootcamp, we will introduce three essential Python libraries for data science: NumPy, and Pandas. We will guide you through using Jupyter Notebook, an open-source web application that allows you to create and share documents that contain live code, equations, visualizations, and narrative text.\n",
    "\n",
    "****\n",
    "\n",
    "Before we start, make sure you have Python, Jupyter Notebook, and the necessary libraries installed. \n",
    "\n",
    "You can install them using pip. Just run the cell bellow if you have not done so yet"
   ]
  },
  {
   "cell_type": "markdown",
   "id": "83175c73-7e30-4d1e-8fd2-1c33371e19ad",
   "metadata": {},
   "source": [
    "BASH\n",
    "\n",
    "$pip install jupyter"
   ]
  },
  {
   "cell_type": "code",
   "execution_count": 1,
   "id": "53f56be5-3f13-4bfd-b4a4-400332ad45a7",
   "metadata": {},
   "outputs": [
    {
     "name": "stdout",
     "output_type": "stream",
     "text": [
      "Looking in indexes: https://pypi.org/simple, https://pypi.ngc.nvidia.com\n",
      "Requirement already satisfied: numpy in /home/owen/Documents/projects/Bootcamps/.venv/lib/python3.11/site-packages (1.26.0)\n",
      "Requirement already satisfied: pandas in /home/owen/Documents/projects/Bootcamps/.venv/lib/python3.11/site-packages (2.1.1)\n",
      "Collecting matplotlib\n",
      "  Obtaining dependency information for matplotlib from https://files.pythonhosted.org/packages/65/5b/3b8fd7d66043f0638a35fa650570cbe69efd42fe169e5024f9307598b47e/matplotlib-3.8.0-cp311-cp311-manylinux_2_17_x86_64.manylinux2014_x86_64.whl.metadata\n",
      "  Downloading matplotlib-3.8.0-cp311-cp311-manylinux_2_17_x86_64.manylinux2014_x86_64.whl.metadata (5.8 kB)\n",
      "Requirement already satisfied: python-dateutil>=2.8.2 in /home/owen/Documents/projects/Bootcamps/.venv/lib/python3.11/site-packages (from pandas) (2.8.2)\n",
      "Requirement already satisfied: pytz>=2020.1 in /home/owen/Documents/projects/Bootcamps/.venv/lib/python3.11/site-packages (from pandas) (2023.3.post1)\n",
      "Requirement already satisfied: tzdata>=2022.1 in /home/owen/Documents/projects/Bootcamps/.venv/lib/python3.11/site-packages (from pandas) (2023.3)\n",
      "Collecting contourpy>=1.0.1 (from matplotlib)\n",
      "  Obtaining dependency information for contourpy>=1.0.1 from https://files.pythonhosted.org/packages/b7/f6/78f60fa0b6ae64971178e2542e8b3ad3ba5f4f379b918ab7b18038a3f897/contourpy-1.1.1-cp311-cp311-manylinux_2_17_x86_64.manylinux2014_x86_64.whl.metadata\n",
      "  Downloading contourpy-1.1.1-cp311-cp311-manylinux_2_17_x86_64.manylinux2014_x86_64.whl.metadata (5.9 kB)\n",
      "Collecting cycler>=0.10 (from matplotlib)\n",
      "  Obtaining dependency information for cycler>=0.10 from https://files.pythonhosted.org/packages/e7/05/c19819d5e3d95294a6f5947fb9b9629efb316b96de511b418c53d245aae6/cycler-0.12.1-py3-none-any.whl.metadata\n",
      "  Downloading cycler-0.12.1-py3-none-any.whl.metadata (3.8 kB)\n",
      "Collecting fonttools>=4.22.0 (from matplotlib)\n",
      "  Obtaining dependency information for fonttools>=4.22.0 from https://files.pythonhosted.org/packages/72/2c/7634a6c16b29d0c31cf54051beefab796abdfe8f52abead6d09e5403696e/fonttools-4.43.1-cp311-cp311-manylinux_2_17_x86_64.manylinux2014_x86_64.whl.metadata\n",
      "  Downloading fonttools-4.43.1-cp311-cp311-manylinux_2_17_x86_64.manylinux2014_x86_64.whl.metadata (152 kB)\n",
      "\u001b[2K     \u001b[90m━━━━━━━━━━━━━━━━━━━━━━━━━━━━━━━━━━━━━━\u001b[0m \u001b[32m152.4/152.4 kB\u001b[0m \u001b[31m14.7 MB/s\u001b[0m eta \u001b[36m0:00:00\u001b[0m\n",
      "\u001b[?25hCollecting kiwisolver>=1.0.1 (from matplotlib)\n",
      "  Obtaining dependency information for kiwisolver>=1.0.1 from https://files.pythonhosted.org/packages/17/ba/17a706b232308e65f57deeccae503c268292e6a091313f6ce833a23093ea/kiwisolver-1.4.5-cp311-cp311-manylinux_2_17_x86_64.manylinux2014_x86_64.whl.metadata\n",
      "  Downloading kiwisolver-1.4.5-cp311-cp311-manylinux_2_17_x86_64.manylinux2014_x86_64.whl.metadata (6.4 kB)\n",
      "Requirement already satisfied: packaging>=20.0 in /home/owen/Documents/projects/Bootcamps/.venv/lib/python3.11/site-packages (from matplotlib) (23.2)\n",
      "Collecting pillow>=6.2.0 (from matplotlib)\n",
      "  Obtaining dependency information for pillow>=6.2.0 from https://files.pythonhosted.org/packages/3c/49/f87cecbdec4b00cc1187f01196d48c08828204cd861915fab44972dc705c/Pillow-10.0.1-cp311-cp311-manylinux_2_28_x86_64.whl.metadata\n",
      "  Downloading Pillow-10.0.1-cp311-cp311-manylinux_2_28_x86_64.whl.metadata (9.5 kB)\n",
      "Collecting pyparsing>=2.3.1 (from matplotlib)\n",
      "  Obtaining dependency information for pyparsing>=2.3.1 from https://files.pythonhosted.org/packages/39/92/8486ede85fcc088f1b3dba4ce92dd29d126fd96b0008ea213167940a2475/pyparsing-3.1.1-py3-none-any.whl.metadata\n",
      "  Downloading pyparsing-3.1.1-py3-none-any.whl.metadata (5.1 kB)\n",
      "Requirement already satisfied: six>=1.5 in /home/owen/Documents/projects/Bootcamps/.venv/lib/python3.11/site-packages (from python-dateutil>=2.8.2->pandas) (1.16.0)\n",
      "Downloading matplotlib-3.8.0-cp311-cp311-manylinux_2_17_x86_64.manylinux2014_x86_64.whl (11.6 MB)\n",
      "\u001b[2K   \u001b[90m━━━━━━━━━━━━━━━━━━━━━━━━━━━━━━━━━━━━━━━━\u001b[0m \u001b[32m11.6/11.6 MB\u001b[0m \u001b[31m69.1 MB/s\u001b[0m eta \u001b[36m0:00:00\u001b[0ma \u001b[36m0:00:01\u001b[0m\n",
      "\u001b[?25hDownloading contourpy-1.1.1-cp311-cp311-manylinux_2_17_x86_64.manylinux2014_x86_64.whl (302 kB)\n",
      "\u001b[2K   \u001b[90m━━━━━━━━━━━━━━━━━━━━━━━━━━━━━━━━━━━━━━━━\u001b[0m \u001b[32m302.8/302.8 kB\u001b[0m \u001b[31m70.8 MB/s\u001b[0m eta \u001b[36m0:00:00\u001b[0m\n",
      "\u001b[?25hDownloading cycler-0.12.1-py3-none-any.whl (8.3 kB)\n",
      "Downloading fonttools-4.43.1-cp311-cp311-manylinux_2_17_x86_64.manylinux2014_x86_64.whl (4.8 MB)\n",
      "\u001b[2K   \u001b[90m━━━━━━━━━━━━━━━━━━━━━━━━━━━━━━━━━━━━━━━━\u001b[0m \u001b[32m4.8/4.8 MB\u001b[0m \u001b[31m49.2 MB/s\u001b[0m eta \u001b[36m0:00:00\u001b[0ma \u001b[36m0:00:01\u001b[0m\n",
      "\u001b[?25hDownloading kiwisolver-1.4.5-cp311-cp311-manylinux_2_17_x86_64.manylinux2014_x86_64.whl (1.4 MB)\n",
      "\u001b[2K   \u001b[90m━━━━━━━━━━━━━━━━━━━━━━━━━━━━━━━━━━━━━━━━\u001b[0m \u001b[32m1.4/1.4 MB\u001b[0m \u001b[31m54.3 MB/s\u001b[0m eta \u001b[36m0:00:00\u001b[0m\n",
      "\u001b[?25hDownloading Pillow-10.0.1-cp311-cp311-manylinux_2_28_x86_64.whl (3.6 MB)\n",
      "\u001b[2K   \u001b[90m━━━━━━━━━━━━━━━━━━━━━━━━━━━━━━━━━━━━━━━━\u001b[0m \u001b[32m3.6/3.6 MB\u001b[0m \u001b[31m54.3 MB/s\u001b[0m eta \u001b[36m0:00:00\u001b[0ma \u001b[36m0:00:01\u001b[0m\n",
      "\u001b[?25hDownloading pyparsing-3.1.1-py3-none-any.whl (103 kB)\n",
      "\u001b[2K   \u001b[90m━━━━━━━━━━━━━━━━━━━━━━━━━━━━━━━━━━━━━━━\u001b[0m \u001b[32m103.1/103.1 kB\u001b[0m \u001b[31m466.1 MB/s\u001b[0m eta \u001b[36m0:00:00\u001b[0m\n",
      "\u001b[?25hInstalling collected packages: pyparsing, pillow, kiwisolver, fonttools, cycler, contourpy, matplotlib\n",
      "Successfully installed contourpy-1.1.1 cycler-0.12.1 fonttools-4.43.1 kiwisolver-1.4.5 matplotlib-3.8.0 pillow-10.0.1 pyparsing-3.1.1\n"
     ]
    }
   ],
   "source": [
    "!pip install numpy pandas matplotlib"
   ]
  },
  {
   "cell_type": "markdown",
   "id": "28e6fde2-4c8a-43f3-9cbf-6c5ce09a11eb",
   "metadata": {},
   "source": [
    "## Numpy\n",
    "\n",
    "NumPy (Numerical Python) is a Python library used for numerical computations and working with arrays. It provides a high-performance multidimensional array object, and tools for working with these arrays.\n",
    "\n",
    "To start, we will import numpy"
   ]
  },
  {
   "cell_type": "code",
   "execution_count": 2,
   "id": "dd85563d-1316-4227-92fd-833e5fb2fc09",
   "metadata": {},
   "outputs": [],
   "source": [
    "import numpy as np #import module as _someShortCut"
   ]
  },
  {
   "cell_type": "markdown",
   "id": "fdd84b8e-bdbf-45ca-ba59-61a019c2cc4c",
   "metadata": {},
   "source": [
    "### Numpy Operations"
   ]
  },
  {
   "cell_type": "markdown",
   "id": "dd17c308-24bf-48e9-aef3-71aae32e4227",
   "metadata": {},
   "source": [
    "Bellow are some examples of how to create, do opperations, and index an array. There more complicated things that you can do witn numpy arrays, but we will stick with the basics for now."
   ]
  },
  {
   "cell_type": "code",
   "execution_count": 3,
   "id": "d8861bb3-8300-4145-bbb5-42ef350ca668",
   "metadata": {},
   "outputs": [
    {
     "name": "stdout",
     "output_type": "stream",
     "text": [
      "[1 2 3]\n",
      "[5 7 9]\n",
      "1\n",
      "[5 2 3]\n"
     ]
    }
   ],
   "source": [
    "# Creating arrays\n",
    "a = np.array([1, 2, 3])   \n",
    "print(a)\n",
    "\n",
    "# Basic operations\n",
    "b = np.array([4, 5, 6]) \n",
    "print(a + b)\n",
    "\n",
    "# Indexing\n",
    "print(a[0])\n",
    "\n",
    "# Changing an element of the array\n",
    "a[0] = 5\n",
    "print(a)"
   ]
  },
  {
   "cell_type": "markdown",
   "id": "0b685ba2-c1b9-404a-a514-34d06c2b11e2",
   "metadata": {},
   "source": [
    "Notice how they are different to regular lists. Here are some examples of how numpy arrays differ from lists"
   ]
  },
  {
   "cell_type": "code",
   "execution_count": 4,
   "id": "acdbba49-4394-4aca-b717-8be85f520147",
   "metadata": {},
   "outputs": [
    {
     "name": "stdout",
     "output_type": "stream",
     "text": [
      "[1, 2, 3, 4, 5, 6]\n",
      "[1, 2, 3, 1, 2, 3, 1, 2, 3]\n"
     ]
    }
   ],
   "source": [
    "# Python list operations\n",
    "list1 = [1, 2, 3]\n",
    "list2 = [4, 5, 6]\n",
    "\n",
    "# This will concatenate the two lists\n",
    "print(list1 + list2)  # Outputs: [1, 2, 3, 4, 5, 6]\n",
    "\n",
    "# This will repeat list1 three times\n",
    "print(list1 * 3)  # Outputs: [1, 2, 3, 1, 2, 3, 1, 2, 3]\n"
   ]
  },
  {
   "cell_type": "markdown",
   "id": "7690cbaa-9c3e-42ac-ac50-8e960b89fe04",
   "metadata": {},
   "source": [
    "But thats not what we would usually want. Can you think of a way to sum up each elemt in list 1 and 2 to get the result [5,7,9]?"
   ]
  },
  {
   "cell_type": "code",
   "execution_count": 6,
   "id": "9d250390-5bc3-4df7-9d69-1c5d827f2b6b",
   "metadata": {},
   "outputs": [],
   "source": [
    "# Hint use a loop"
   ]
  },
  {
   "cell_type": "markdown",
   "id": "45d11521-8a84-43f4-8470-54e2245da0fc",
   "metadata": {},
   "source": [
    "Here is the exact same code just using numpy"
   ]
  },
  {
   "cell_type": "code",
   "execution_count": 5,
   "id": "3d0f65d4-a5ce-40b4-8b14-fd061970c2e0",
   "metadata": {},
   "outputs": [
    {
     "name": "stdout",
     "output_type": "stream",
     "text": [
      "[5 7 9]\n",
      "[3 6 9]\n"
     ]
    }
   ],
   "source": [
    "# NumPy array operations\n",
    "arr1 = np.array([1, 2, 3])\n",
    "arr2 = np.array([4, 5, 6])\n",
    "\n",
    "# This will add the arrays element-wise\n",
    "print(arr1 + arr2)  # Outputs: array([5, 7, 9])\n",
    "\n",
    "# This will multiply each element of arr1 by 3\n",
    "print(arr1 * 3)  # Outputs: array([3, 6, 9])\n"
   ]
  },
  {
   "cell_type": "markdown",
   "id": "608570f8-c588-44cc-a6be-3a60dbb99ed6",
   "metadata": {},
   "source": [
    "### Indexing"
   ]
  },
  {
   "cell_type": "markdown",
   "id": "7745dd1b-1870-4c5d-9a73-4d97046c04ae",
   "metadata": {},
   "source": [
    "Both Python lists and NumPy arrays support basic indexing and slicing. However, NumPy arrays offer advanced indexing options that aren't available with Python lists.\n",
    "\n",
    "With Python lists, you can access a single element or a slice of elements using their indices:"
   ]
  },
  {
   "cell_type": "code",
   "execution_count": 6,
   "id": "2bbb1a65-3ede-429b-8a7e-70cd4b49ba67",
   "metadata": {},
   "outputs": [
    {
     "name": "stdout",
     "output_type": "stream",
     "text": [
      "1\n",
      "[2, 3, 4]\n"
     ]
    }
   ],
   "source": [
    "# Python list indexing\n",
    "my_list = [1, 2, 3, 4, 5]\n",
    "\n",
    "print(my_list[0])  # Outputs: 1\n",
    "print(my_list[1:4])  # Outputs: [2, 3, 4]\n"
   ]
  },
  {
   "cell_type": "markdown",
   "id": "53868140-f224-4601-84b2-0800d4620331",
   "metadata": {},
   "source": [
    "NumPy arrays support all of the indexing options that Python lists do, but they also provide powerful ways to access data using boolean indexing and multi-dimensional slicing."
   ]
  },
  {
   "cell_type": "code",
   "execution_count": 7,
   "id": "c124e7c5-3bfb-46ca-8827-1bf544aeec3d",
   "metadata": {},
   "outputs": [
    {
     "name": "stdout",
     "output_type": "stream",
     "text": [
      "[4 5]\n",
      "[[4 5]\n",
      " [7 8]]\n"
     ]
    }
   ],
   "source": [
    "# NumPy array indexing\n",
    "my_array = np.array([1, 2, 3, 4, 5])\n",
    "\n",
    "# Boolean indexing\n",
    "print(my_array[my_array > 3])  # Outputs: array([4, 5])\n",
    "\n",
    "# Multi-dimensional array slicing\n",
    "my_2d_array = np.array([[1, 2, 3], [4, 5, 6], [7, 8, 9]])\n",
    "print(my_2d_array[1:, :2])  # Outputs: array([[4, 5], [7, 8]])\n"
   ]
  },
  {
   "cell_type": "markdown",
   "id": "f25119ed-cd2f-4a0c-8073-56458162b660",
   "metadata": {},
   "source": [
    "If you want a more detailed look at what other things you can do with numpy feel free to read the documentaion:\n",
    "- https://numpy.org/doc/1.25/"
   ]
  },
  {
   "cell_type": "markdown",
   "id": "eb296d39-6087-4c8f-b790-f0dc3a005421",
   "metadata": {},
   "source": [
    "\n",
    "### Exercises to numpy "
   ]
  },
  {
   "cell_type": "markdown",
   "id": "f697ed8d-cba8-4239-8764-6aad332e6d99",
   "metadata": {},
   "source": [
    "#### Exercise 1: NumPy Array Creation and Operations\n",
    "\n",
    "- Create a NumPy array 'a' containing the numbers from 1-10.\n",
    "- Create another NumPy array 'b' containing the numbers from 11-20.\n",
    "- Perform the following operations:\n",
    "- Add array 'a' and 'b'\n",
    "- Subtract array 'b' from 'a'\n",
    "- Multiply array 'a' by 'b'"
   ]
  },
  {
   "cell_type": "code",
   "execution_count": 12,
   "id": "8e9bb6d4-e08c-48df-ac85-db68ac4aa778",
   "metadata": {},
   "outputs": [],
   "source": [
    "# Code here\n",
    "# Hint: look at documentation for np.linspace()"
   ]
  },
  {
   "cell_type": "markdown",
   "id": "23f21f8c-ae26-4ef7-bf14-026974080055",
   "metadata": {},
   "source": [
    "#### Exercise 2: Python List and NumPy Array Comparison\n",
    "\n",
    "- Create a Python list and a NumPy array, each containing the numbers from 1-1000000.\n",
    "- Use the `time` module to compare the time taken to sum the elements in the list vs. the NumPy array. Which is faster?"
   ]
  },
  {
   "cell_type": "code",
   "execution_count": 13,
   "id": "c5b7d445-ced7-41d7-ad47-e001d4483cee",
   "metadata": {},
   "outputs": [],
   "source": [
    "import time\n",
    "#Code here"
   ]
  },
  {
   "cell_type": "markdown",
   "id": "773e2e96-1fdb-4b9b-b766-d193834c3144",
   "metadata": {},
   "source": [
    "#### Exercise 3: Indexing with NumPy Arrays\n",
    "\n",
    "Given the following 2D array:"
   ]
  },
  {
   "cell_type": "code",
   "execution_count": 14,
   "id": "4d752ba2-6892-4549-88c9-2a1ed38de9c9",
   "metadata": {},
   "outputs": [],
   "source": [
    "array = np.array([[1, 2, 3, 4, 5], [6, 7, 8, 9, 10], [11, 12, 13, 14, 15], [16, 17, 18, 19, 20]])\n"
   ]
  },
  {
   "cell_type": "markdown",
   "id": "faebe766-ece9-4684-bf61-c3802b62b818",
   "metadata": {},
   "source": [
    "- Access the element at the 2nd row and 3rd column.\n",
    "- Access the first two rows.\n",
    "- Access the last two columns.\n",
    "- Use boolean indexing to print out all the numbers greater than 10."
   ]
  },
  {
   "cell_type": "code",
   "execution_count": 15,
   "id": "2d8abd8c-ddab-43ee-a9f7-41c17784a30e",
   "metadata": {},
   "outputs": [],
   "source": [
    "# Code here"
   ]
  },
  {
   "cell_type": "markdown",
   "id": "bcd08b52-a040-4569-ae38-f3d41fa49652",
   "metadata": {},
   "source": [
    "## Pandas\n",
    "\n",
    "Pandas is a library used for data manipulation and analysis. It provides data structures and functions needed to manipulate structured data.\n",
    "\n",
    "Read this article on what Structured data is\n",
    "https://www.tibco.com/reference-center/what-is-structured-data"
   ]
  },
  {
   "cell_type": "markdown",
   "id": "f4771fe4-fb5e-4b18-b438-6867f3c75631",
   "metadata": {},
   "source": [
    "### Pandas Series\n",
    "\n",
    "A `Series` is a one-dimensional labeled array capable of holding any data type (integers, strings, floating point numbers, Python objects, etc.). It is similar to a column in a spreadsheet, a field in a database, or a vector in R."
   ]
  },
  {
   "cell_type": "code",
   "execution_count": 19,
   "id": "627e343a-4507-4d22-9527-42aefc342d2d",
   "metadata": {},
   "outputs": [
    {
     "name": "stdout",
     "output_type": "stream",
     "text": [
      "0    1.0\n",
      "1    3.0\n",
      "2    5.0\n",
      "3    NaN\n",
      "4    6.0\n",
      "5    8.0\n",
      "dtype: float64\n"
     ]
    }
   ],
   "source": [
    "import pandas as pd\n",
    "\n",
    "s = pd.Series([1, 3, 5, np.nan, 6, 8])\n",
    "print(s)\n"
   ]
  },
  {
   "cell_type": "markdown",
   "id": "083ca0b3-de47-49d4-8869-e5d430c8f04c",
   "metadata": {},
   "source": [
    "### Creating a Data Frame"
   ]
  },
  {
   "cell_type": "markdown",
   "id": "4c14c912-b07d-4da8-8330-cbed51d8ef1f",
   "metadata": {},
   "source": [
    "A DataFrame is a two-dimensional labeled data structure with columns of potentially different types. You can think of it like a spreadsheet or SQL table, or a dictionary of Series objects. It is generally the most commonly used pandas object."
   ]
  },
  {
   "cell_type": "code",
   "execution_count": 44,
   "id": "b9bf7460-53d3-4a59-9422-e468a2d98052",
   "metadata": {},
   "outputs": [
    {
     "data": {
      "text/html": [
       "<div>\n",
       "<style scoped>\n",
       "    .dataframe tbody tr th:only-of-type {\n",
       "        vertical-align: middle;\n",
       "    }\n",
       "\n",
       "    .dataframe tbody tr th {\n",
       "        vertical-align: top;\n",
       "    }\n",
       "\n",
       "    .dataframe thead th {\n",
       "        text-align: right;\n",
       "    }\n",
       "</style>\n",
       "<table border=\"1\" class=\"dataframe\">\n",
       "  <thead>\n",
       "    <tr style=\"text-align: right;\">\n",
       "      <th></th>\n",
       "      <th>A</th>\n",
       "      <th>B</th>\n",
       "      <th>C</th>\n",
       "      <th>D</th>\n",
       "      <th>E</th>\n",
       "      <th>F</th>\n",
       "    </tr>\n",
       "  </thead>\n",
       "  <tbody>\n",
       "    <tr>\n",
       "      <th>0</th>\n",
       "      <td>1.0</td>\n",
       "      <td>2023-07-05</td>\n",
       "      <td>1.0</td>\n",
       "      <td>3</td>\n",
       "      <td>test</td>\n",
       "      <td>foo</td>\n",
       "    </tr>\n",
       "    <tr>\n",
       "      <th>1</th>\n",
       "      <td>1.0</td>\n",
       "      <td>2023-07-05</td>\n",
       "      <td>1.0</td>\n",
       "      <td>3</td>\n",
       "      <td>train</td>\n",
       "      <td>foo</td>\n",
       "    </tr>\n",
       "    <tr>\n",
       "      <th>2</th>\n",
       "      <td>1.0</td>\n",
       "      <td>2023-07-05</td>\n",
       "      <td>1.0</td>\n",
       "      <td>3</td>\n",
       "      <td>test</td>\n",
       "      <td>foo</td>\n",
       "    </tr>\n",
       "    <tr>\n",
       "      <th>3</th>\n",
       "      <td>1.0</td>\n",
       "      <td>2023-07-05</td>\n",
       "      <td>1.0</td>\n",
       "      <td>3</td>\n",
       "      <td>train</td>\n",
       "      <td>foo</td>\n",
       "    </tr>\n",
       "  </tbody>\n",
       "</table>\n",
       "</div>"
      ],
      "text/plain": [
       "     A          B    C  D      E    F\n",
       "0  1.0 2023-07-05  1.0  3   test  foo\n",
       "1  1.0 2023-07-05  1.0  3  train  foo\n",
       "2  1.0 2023-07-05  1.0  3   test  foo\n",
       "3  1.0 2023-07-05  1.0  3  train  foo"
      ]
     },
     "execution_count": 44,
     "metadata": {},
     "output_type": "execute_result"
    }
   ],
   "source": [
    "df = pd.DataFrame({\n",
    "    'A': 1.,\n",
    "    'B': pd.Timestamp('20230705'),\n",
    "    'C': pd.Series(1, index=list(range(4)), dtype='float32'),\n",
    "    'D': np.array([3] * 4, dtype='int32'),\n",
    "    'E': pd.Categorical([\"test\", \"train\", \"test\", \"train\"]),\n",
    "    'F': 'foo'\n",
    "})\n",
    "\n",
    "df\n",
    "\n",
    "\n",
    "\n"
   ]
  },
  {
   "cell_type": "markdown",
   "id": "122fb5d8-109c-4861-a90c-173db654d969",
   "metadata": {},
   "source": [
    "### Reading Data"
   ]
  },
  {
   "cell_type": "markdown",
   "id": "3e13b18b-6921-4361-b65d-76d68702eeb7",
   "metadata": {},
   "source": [
    "Pandas can read data from various file formats such as CSV, Excel, JSON, SQL databases, html, and even the clipboard."
   ]
  },
  {
   "cell_type": "code",
   "execution_count": 43,
   "id": "13c2f983-6f89-4882-92e5-78cb9e634557",
   "metadata": {},
   "outputs": [
    {
     "data": {
      "text/plain": [
       "13"
      ]
     },
     "execution_count": 43,
     "metadata": {},
     "output_type": "execute_result"
    }
   ],
   "source": [
    "# Reading data from a html\n",
    "df_wiki = pd.read_html('https://en.wikipedia.org/wiki/Moons_of_Jupiter')\n",
    "# returns -> list of data frames\n",
    "len(df_wiki)"
   ]
  },
  {
   "cell_type": "code",
   "execution_count": 40,
   "id": "10d56aa2-abce-4542-ac66-5aeafcb1f97a",
   "metadata": {},
   "outputs": [
    {
     "data": {
      "text/html": [
       "<div>\n",
       "<style scoped>\n",
       "    .dataframe tbody tr th:only-of-type {\n",
       "        vertical-align: middle;\n",
       "    }\n",
       "\n",
       "    .dataframe tbody tr th {\n",
       "        vertical-align: top;\n",
       "    }\n",
       "\n",
       "    .dataframe thead th {\n",
       "        text-align: right;\n",
       "    }\n",
       "</style>\n",
       "<table border=\"1\" class=\"dataframe\">\n",
       "  <thead>\n",
       "    <tr style=\"text-align: right;\">\n",
       "      <th></th>\n",
       "      <th>Label[note 4]</th>\n",
       "      <th>Name</th>\n",
       "      <th>Pronunciation</th>\n",
       "      <th>Image</th>\n",
       "      <th>Abs.magn.[65]</th>\n",
       "      <th>Diameter (km)[4][note 5]</th>\n",
       "      <th>Mass(×1016 kg)[66][note 6]</th>\n",
       "      <th>Semi-major axis(km)[62]</th>\n",
       "      <th>Orbital period (d)[62][note 7]</th>\n",
       "      <th>Inclination(°)[62]</th>\n",
       "      <th>Eccentricity[4]</th>\n",
       "      <th>Discovery year[1]</th>\n",
       "      <th>Year announced</th>\n",
       "      <th>Discoverer[48][1]</th>\n",
       "      <th>Group[note 8]</th>\n",
       "    </tr>\n",
       "  </thead>\n",
       "  <tbody>\n",
       "    <tr>\n",
       "      <th>0</th>\n",
       "      <td>XVI</td>\n",
       "      <td>Metis</td>\n",
       "      <td>/ˈmiːtəs/</td>\n",
       "      <td>NaN</td>\n",
       "      <td>10.5</td>\n",
       "      <td>43(60 × 40 × 34)</td>\n",
       "      <td>≈ 3.6</td>\n",
       "      <td>128000</td>\n",
       "      <td>+0.2948(+7h 04m 29s)</td>\n",
       "      <td>0.060</td>\n",
       "      <td>0.0002</td>\n",
       "      <td>1979</td>\n",
       "      <td>1980</td>\n",
       "      <td>Synnott(Voyager 1)</td>\n",
       "      <td>Inner</td>\n",
       "    </tr>\n",
       "    <tr>\n",
       "      <th>1</th>\n",
       "      <td>XV</td>\n",
       "      <td>Adrastea</td>\n",
       "      <td>/ædrəˈstiːə/</td>\n",
       "      <td>NaN</td>\n",
       "      <td>12.0</td>\n",
       "      <td>16.4(20 × 16 × 14)</td>\n",
       "      <td>≈ 0.20</td>\n",
       "      <td>129000</td>\n",
       "      <td>+0.2983(+7h 09m 30s)</td>\n",
       "      <td>0.030</td>\n",
       "      <td>0.0015</td>\n",
       "      <td>1979</td>\n",
       "      <td>1979</td>\n",
       "      <td>Jewitt(Voyager 2)</td>\n",
       "      <td>Inner</td>\n",
       "    </tr>\n",
       "    <tr>\n",
       "      <th>2</th>\n",
       "      <td>V</td>\n",
       "      <td>Amalthea</td>\n",
       "      <td>/æməlˈθiːə/[67]</td>\n",
       "      <td>NaN</td>\n",
       "      <td>7.1</td>\n",
       "      <td>167(250 × 146 × 128)</td>\n",
       "      <td>208</td>\n",
       "      <td>181400</td>\n",
       "      <td>+0.4999(+11h 59m 53s)</td>\n",
       "      <td>0.374</td>\n",
       "      <td>0.0032</td>\n",
       "      <td>1892</td>\n",
       "      <td>1892</td>\n",
       "      <td>Barnard</td>\n",
       "      <td>Inner</td>\n",
       "    </tr>\n",
       "    <tr>\n",
       "      <th>3</th>\n",
       "      <td>XIV</td>\n",
       "      <td>Thebe</td>\n",
       "      <td>/ˈθiːbiː/</td>\n",
       "      <td>NaN</td>\n",
       "      <td>9.0</td>\n",
       "      <td>98.6(116 × 98 × 84)</td>\n",
       "      <td>≈ 43</td>\n",
       "      <td>221900</td>\n",
       "      <td>+0.6761(+16h 13m 35s)</td>\n",
       "      <td>1.076</td>\n",
       "      <td>0.0175</td>\n",
       "      <td>1979</td>\n",
       "      <td>1980</td>\n",
       "      <td>Synnott(Voyager 1)</td>\n",
       "      <td>Inner</td>\n",
       "    </tr>\n",
       "    <tr>\n",
       "      <th>4</th>\n",
       "      <td>I</td>\n",
       "      <td>Io♠</td>\n",
       "      <td>/ˈaɪoʊ/</td>\n",
       "      <td>NaN</td>\n",
       "      <td>–1.7</td>\n",
       "      <td>3643.2(3660 × 3637 × 3631)</td>\n",
       "      <td>8931900</td>\n",
       "      <td>421800</td>\n",
       "      <td>+1.7627(+1d 18h 18m 20s)</td>\n",
       "      <td>0.050[68]</td>\n",
       "      <td>0.0041</td>\n",
       "      <td>1610</td>\n",
       "      <td>1610</td>\n",
       "      <td>Galileo</td>\n",
       "      <td>Galilean</td>\n",
       "    </tr>\n",
       "  </tbody>\n",
       "</table>\n",
       "</div>"
      ],
      "text/plain": [
       "  Label[note 4]      Name    Pronunciation  Image Abs.magn.[65]  \\\n",
       "0           XVI     Metis        /ˈmiːtəs/    NaN          10.5   \n",
       "1            XV  Adrastea     /ædrəˈstiːə/    NaN          12.0   \n",
       "2             V  Amalthea  /æməlˈθiːə/[67]    NaN           7.1   \n",
       "3           XIV     Thebe        /ˈθiːbiː/    NaN           9.0   \n",
       "4             I       Io♠          /ˈaɪoʊ/    NaN          –1.7   \n",
       "\n",
       "     Diameter (km)[4][note 5] Mass(×1016 kg)[66][note 6]  \\\n",
       "0            43(60 × 40 × 34)                      ≈ 3.6   \n",
       "1          16.4(20 × 16 × 14)                     ≈ 0.20   \n",
       "2        167(250 × 146 × 128)                        208   \n",
       "3         98.6(116 × 98 × 84)                       ≈ 43   \n",
       "4  3643.2(3660 × 3637 × 3631)                    8931900   \n",
       "\n",
       "   Semi-major axis(km)[62] Orbital period (d)[62][note 7] Inclination(°)[62]  \\\n",
       "0                   128000           +0.2948(+7h 04m 29s)              0.060   \n",
       "1                   129000           +0.2983(+7h 09m 30s)              0.030   \n",
       "2                   181400          +0.4999(+11h 59m 53s)              0.374   \n",
       "3                   221900          +0.6761(+16h 13m 35s)              1.076   \n",
       "4                   421800       +1.7627(+1d 18h 18m 20s)          0.050[68]   \n",
       "\n",
       "   Eccentricity[4] Discovery year[1]  Year announced   Discoverer[48][1]  \\\n",
       "0           0.0002              1979            1980  Synnott(Voyager 1)   \n",
       "1           0.0015              1979            1979   Jewitt(Voyager 2)   \n",
       "2           0.0032              1892            1892             Barnard   \n",
       "3           0.0175              1979            1980  Synnott(Voyager 1)   \n",
       "4           0.0041              1610            1610             Galileo   \n",
       "\n",
       "  Group[note 8]  \n",
       "0         Inner  \n",
       "1         Inner  \n",
       "2         Inner  \n",
       "3         Inner  \n",
       "4      Galilean  "
      ]
     },
     "execution_count": 40,
     "metadata": {},
     "output_type": "execute_result"
    }
   ],
   "source": [
    "jupiter_df = df_wiki[2]# index to access the frame\n",
    "jupiter_df"
   ]
  },
  {
   "cell_type": "code",
   "execution_count": 42,
   "id": "8a2a98b7-b012-41f3-be49-7386ea3d9094",
   "metadata": {},
   "outputs": [
    {
     "name": "stdout",
     "output_type": "stream",
     "text": [
      "<class 'pandas.core.frame.DataFrame'>\n",
      "RangeIndex: 95 entries, 0 to 94\n",
      "Data columns (total 15 columns):\n",
      " #   Column                          Non-Null Count  Dtype  \n",
      "---  ------                          --------------  -----  \n",
      " 0   Label[note 4]                   72 non-null     object \n",
      " 1   Name                            95 non-null     object \n",
      " 2   Pronunciation                   57 non-null     object \n",
      " 3   Image                           0 non-null      float64\n",
      " 4   Abs.magn.[65]                   95 non-null     object \n",
      " 5   Diameter (km)[4][note 5]        95 non-null     object \n",
      " 6   Mass(×1016 kg)[66][note 6]      95 non-null     object \n",
      " 7   Semi-major axis(km)[62]         95 non-null     int64  \n",
      " 8   Orbital period (d)[62][note 7]  95 non-null     object \n",
      " 9   Inclination(°)[62]              95 non-null     object \n",
      " 10  Eccentricity[4]                 95 non-null     float64\n",
      " 11  Discovery year[1]               95 non-null     object \n",
      " 12  Year announced                  95 non-null     int64  \n",
      " 13  Discoverer[48][1]               95 non-null     object \n",
      " 14  Group[note 8]                   95 non-null     object \n",
      "dtypes: float64(2), int64(2), object(11)\n",
      "memory usage: 11.3+ KB\n"
     ]
    }
   ],
   "source": [
    "jupiter_df.info() #displays some info about your data like dtypes, null counts, and column names. You would have to do some cleaning to fix the columns"
   ]
  },
  {
   "cell_type": "markdown",
   "id": "eface387-82f6-4097-ab8a-d3692d737cd0",
   "metadata": {},
   "source": [
    "### Query and Masking\n",
    "\n",
    "You can query your data in different ways. You can select by postion, by label, or even with a boolean array (masking)."
   ]
  },
  {
   "cell_type": "code",
   "execution_count": 46,
   "id": "b1437662-da87-4b26-acbe-1dfea020a092",
   "metadata": {},
   "outputs": [
    {
     "name": "stdout",
     "output_type": "stream",
     "text": [
      "A                    1.0\n",
      "B    2023-07-05 00:00:00\n",
      "C                    1.0\n",
      "D                      3\n",
      "E                   test\n",
      "F                    foo\n",
      "Name: 0, dtype: object\n",
      "1.0\n",
      "1.0\n",
      "     A          B    C  D      E    F\n",
      "0  1.0 2023-07-05  1.0  3   test  foo\n",
      "1  1.0 2023-07-05  1.0  3  train  foo\n",
      "2  1.0 2023-07-05  1.0  3   test  foo\n",
      "3  1.0 2023-07-05  1.0  3  train  foo\n",
      "     A          B    C  D      E    F\n",
      "0  1.0 2023-07-05  1.0  3   test  foo\n",
      "1  1.0 2023-07-05  1.0  3  train  foo\n",
      "2  1.0 2023-07-05  1.0  3   test  foo\n",
      "3  1.0 2023-07-05  1.0  3  train  foo\n"
     ]
    }
   ],
   "source": [
    "# Querying by position\n",
    "print(df.iloc[0])  # Gets the first row\n",
    "print(df.iloc[0, 0])  # Gets the first element of the first row\n",
    "\n",
    "# Querying by label\n",
    "print(df.loc[0, 'A'])  # Gets the first element of column 'A'\n",
    "\n",
    "# Boolean indexing or masking\n",
    "print(df[df['A'] > 0])  # Gets rows where 'A' is greater than 0\n",
    "\n",
    "# Query using query function\n",
    "print(df.query(\"A > 0\"))"
   ]
  },
  {
   "cell_type": "markdown",
   "id": "02432d03-d7bb-4763-a09f-afbef073bc10",
   "metadata": {},
   "source": [
    "### Summary Statistics\n",
    "\n",
    "Pandas provides a large number of methods to extract key statistical information from your data."
   ]
  },
  {
   "cell_type": "code",
   "execution_count": 47,
   "id": "b5f1e2c6-5b3a-43aa-a50e-1d5ea3bf23d3",
   "metadata": {},
   "outputs": [
    {
     "name": "stdout",
     "output_type": "stream",
     "text": [
      "         A    C    D\n",
      "count  4.0  4.0  4.0\n",
      "mean   1.0  1.0  3.0\n",
      "std    0.0  0.0  0.0\n",
      "min    1.0  1.0  3.0\n",
      "25%    1.0  1.0  3.0\n",
      "50%    1.0  1.0  3.0\n",
      "75%    1.0  1.0  3.0\n",
      "max    1.0  1.0  3.0\n",
      "A    4\n",
      "B    4\n",
      "C    4\n",
      "D    4\n",
      "E    4\n",
      "F    4\n",
      "dtype: int64\n",
      "A    1.0\n",
      "C    1.0\n",
      "D    3.0\n",
      "dtype: float64\n",
      "A                    1.0\n",
      "B    2023-07-05 00:00:00\n",
      "C                    1.0\n",
      "D                      3\n",
      "F                    foo\n",
      "dtype: object\n",
      "A                    1.0\n",
      "B    2023-07-05 00:00:00\n",
      "C                    1.0\n",
      "D                      3\n",
      "F                    foo\n",
      "dtype: object\n",
      "     A          B    C   D                   E             F\n",
      "0  1.0 2023-07-05  1.0   3                test           foo\n",
      "1  2.0 2077-01-05  2.0   6           testtrain        foofoo\n",
      "2  3.0 2130-07-10  3.0   9       testtraintest     foofoofoo\n",
      "3  4.0 2184-01-11  4.0  12  testtraintesttrain  foofoofoofoo\n"
     ]
    },
    {
     "name": "stderr",
     "output_type": "stream",
     "text": [
      "C:\\Users\\alexg\\AppData\\Local\\Temp\\ipykernel_39832\\1280724371.py:8: FutureWarning: DataFrame.mean and DataFrame.median with numeric_only=None will include datetime64 and datetime64tz columns in a future version.\n",
      "  print(df.mean())\n",
      "C:\\Users\\alexg\\AppData\\Local\\Temp\\ipykernel_39832\\1280724371.py:8: FutureWarning: Dropping of nuisance columns in DataFrame reductions (with 'numeric_only=None') is deprecated; in a future version this will raise TypeError.  Select only valid columns before calling the reduction.\n",
      "  print(df.mean())\n",
      "C:\\Users\\alexg\\AppData\\Local\\Temp\\ipykernel_39832\\1280724371.py:11: FutureWarning: Dropping of nuisance columns in DataFrame reductions (with 'numeric_only=None') is deprecated; in a future version this will raise TypeError.  Select only valid columns before calling the reduction.\n",
      "  print(df.min())\n",
      "C:\\Users\\alexg\\AppData\\Local\\Temp\\ipykernel_39832\\1280724371.py:12: FutureWarning: Dropping of nuisance columns in DataFrame reductions (with 'numeric_only=None') is deprecated; in a future version this will raise TypeError.  Select only valid columns before calling the reduction.\n",
      "  print(df.max())\n"
     ]
    }
   ],
   "source": [
    "# Getting summary statistics of the dataframe\n",
    "print(df.describe())\n",
    "\n",
    "# Counting non-NA cells for each column\n",
    "print(df.count())\n",
    "\n",
    "# Calculating mean\n",
    "print(df.mean())\n",
    "\n",
    "# Getting min, max values\n",
    "print(df.min())\n",
    "print(df.max())\n",
    "\n",
    "# Applying a function to the data\n",
    "print(df.apply(np.cumsum))  # Cumulative sum over data\n"
   ]
  },
  {
   "cell_type": "markdown",
   "id": "d763a421-2b01-4efa-a4d4-4294161b2a17",
   "metadata": {},
   "source": [
    "### Exercises to pandas"
   ]
  },
  {
   "cell_type": "markdown",
   "id": "afa41197-592d-4dfb-8e0f-d082b2c5ed7d",
   "metadata": {},
   "source": [
    "#### Exercise 1: Creating a DataFrame object\n",
    "\n",
    "Create a DataFrame 'df' with the following structure:\n",
    "\n",
    "| Index | Name | Age | City | Income |\n",
    "| --- | --- | --- | --- | --- |\n",
    "| 0 | Alex | 21 | New York | 60000 |\n",
    "| 1 | Bob | 24 | California | 70000 |\n",
    "| 2 | Mark | 25 | Texas | 80000 |\n"
   ]
  },
  {
   "cell_type": "markdown",
   "id": "6fa6215d-53b3-4a83-82af-1bc27cba3d4e",
   "metadata": {},
   "source": [
    "#### Exercise 2: Reading and Querying Data\n",
    "\n",
    "- Load a dataset from a CSV file named 'Iris.csv' into a DataFrame 'df'.\n",
    "- Display the first 5 rows of the DataFrame.\n",
    "- Display the last 5 rows of the DataFrame.\n",
    "- Show the information of iris flower that have a sepal length greater than 5cm and a petal length between 1 and 4 cm"
   ]
  },
  {
   "cell_type": "code",
   "execution_count": 61,
   "id": "42442e2d-b0bc-420b-875d-42cbd1d4c81a",
   "metadata": {},
   "outputs": [],
   "source": [
    "#Code Here"
   ]
  },
  {
   "cell_type": "markdown",
   "id": "6dc14115-31a4-4b82-ae56-0a83a556213f",
   "metadata": {},
   "source": [
    "#### Exercise 3: Summary Statistics\n",
    "\n",
    "Given the DataFrame 'df' created in Exercise 1:\n",
    "\n",
    "- Calculate the mean income.\n",
    "- Identify the person with the highest income.\n",
    "- Identify the person with the lowest age."
   ]
  },
  {
   "cell_type": "code",
   "execution_count": null,
   "id": "2710e89a-f4a6-4ee8-a343-8e397c3e2ba6",
   "metadata": {},
   "outputs": [],
   "source": [
    "#Code Here"
   ]
  },
  {
   "cell_type": "markdown",
   "id": "32b50dad-e7bf-4467-af9b-26f89d591311",
   "metadata": {},
   "source": [
    "## Solutions to Exercises"
   ]
  },
  {
   "cell_type": "markdown",
   "id": "0b5efcea-8746-4528-8644-c50f7eef8475",
   "metadata": {},
   "source": [
    "### Numpy Solutions"
   ]
  },
  {
   "cell_type": "markdown",
   "id": "d6cff86b-355a-4af4-a723-8fd6744867b4",
   "metadata": {},
   "source": [
    "#### Ex1"
   ]
  },
  {
   "cell_type": "code",
   "execution_count": null,
   "id": "8ac06ce6-5460-42f4-816e-0b5a36a2264b",
   "metadata": {},
   "outputs": [],
   "source": [
    "# 1.\n",
    "a = np.arange(1, 11)\n",
    "# 2.\n",
    "b = np.arange(11, 21)\n",
    "# 3.\n",
    "print(a + b)\n",
    "print(a - b)\n",
    "print(a * b)\n"
   ]
  },
  {
   "cell_type": "markdown",
   "id": "6b0d3372-48f7-4e64-b4e8-08d5eeffc5c1",
   "metadata": {},
   "source": [
    "#### Ex2"
   ]
  },
  {
   "cell_type": "code",
   "execution_count": null,
   "id": "b1fb6bf3-dd56-452c-888c-2fa2822e0fd2",
   "metadata": {},
   "outputs": [],
   "source": [
    "import time\n",
    "\n",
    "# 1.\n",
    "python_list = list(range(1, 1000001))\n",
    "numpy_array = np.arange(1, 1000001)\n",
    "\n",
    "# 2.\n",
    "start = time.time()\n",
    "sum_list = sum(python_list)\n",
    "end = time.time()\n",
    "print(\"Time taken by Python list: \", end - start)\n",
    "\n",
    "start = time.time()\n",
    "sum_array = numpy_array.sum()\n",
    "end = time.time()\n",
    "print(\"Time taken by NumPy array: \", end - start)\n"
   ]
  },
  {
   "cell_type": "markdown",
   "id": "1e4d7272-3ad6-497a-95ff-0f5781a6397a",
   "metadata": {},
   "source": [
    "#### Ex3"
   ]
  },
  {
   "cell_type": "code",
   "execution_count": null,
   "id": "81e89a71-2db7-4986-bd56-779dad240ca8",
   "metadata": {},
   "outputs": [],
   "source": [
    "# 1.\n",
    "print(array[1, 2])\n",
    "\n",
    "# 2.\n",
    "print(array[:2, :])\n",
    "\n",
    "# 3.\n",
    "print(array[:, -2:])\n",
    "\n",
    "# 4.\n",
    "print(array[array > 10])\n"
   ]
  },
  {
   "cell_type": "markdown",
   "id": "24db937b-e972-479b-92ac-82fbe98caf31",
   "metadata": {},
   "source": [
    "## Pandas Solutions"
   ]
  },
  {
   "cell_type": "markdown",
   "id": "554fefce-322f-463c-9b3c-28aef08b5d0e",
   "metadata": {},
   "source": [
    "### Ex 1"
   ]
  },
  {
   "cell_type": "code",
   "execution_count": 62,
   "id": "d4e21ac4-5c59-49c3-8f0f-fb5ed69c2e16",
   "metadata": {},
   "outputs": [],
   "source": [
    "df = pd.DataFrame({\n",
    "    'Name': ['Alex', 'Bob', 'Mark'],\n",
    "    'Age': [21, 24, 25],\n",
    "    'City': ['New York', 'California', 'Texas'],\n",
    "    'Income': [60000, 70000, 80000]\n",
    "})\n"
   ]
  },
  {
   "cell_type": "markdown",
   "id": "19ab623e-156b-4a53-bbbe-b86d545da8e3",
   "metadata": {},
   "source": [
    "### Ex 2"
   ]
  },
  {
   "cell_type": "code",
   "execution_count": 65,
   "id": "0d7494a4-2623-4a4e-acd9-bd1d267fa72c",
   "metadata": {},
   "outputs": [
    {
     "name": "stdout",
     "output_type": "stream",
     "text": [
      "   Id  SepalLengthCm  SepalWidthCm  PetalLengthCm  PetalWidthCm      Species\n",
      "0   1            5.1           3.5            1.4           0.2  Iris-setosa\n",
      "1   2            4.9           3.0            1.4           0.2  Iris-setosa\n",
      "2   3            4.7           3.2            1.3           0.2  Iris-setosa\n",
      "3   4            4.6           3.1            1.5           0.2  Iris-setosa\n",
      "4   5            5.0           3.6            1.4           0.2  Iris-setosa\n",
      "      Id  SepalLengthCm  SepalWidthCm  PetalLengthCm  PetalWidthCm  \\\n",
      "145  146            6.7           3.0            5.2           2.3   \n",
      "146  147            6.3           2.5            5.0           1.9   \n",
      "147  148            6.5           3.0            5.2           2.0   \n",
      "148  149            6.2           3.4            5.4           2.3   \n",
      "149  150            5.9           3.0            5.1           1.8   \n",
      "\n",
      "            Species  \n",
      "145  Iris-virginica  \n",
      "146  Iris-virginica  \n",
      "147  Iris-virginica  \n",
      "148  Iris-virginica  \n",
      "149  Iris-virginica  \n",
      "    Id  SepalLengthCm  SepalWidthCm  PetalLengthCm  PetalWidthCm  \\\n",
      "0    1            5.1           3.5            1.4           0.2   \n",
      "5    6            5.4           3.9            1.7           0.4   \n",
      "10  11            5.4           3.7            1.5           0.2   \n",
      "14  15            5.8           4.0            1.2           0.2   \n",
      "15  16            5.7           4.4            1.5           0.4   \n",
      "16  17            5.4           3.9            1.3           0.4   \n",
      "17  18            5.1           3.5            1.4           0.3   \n",
      "18  19            5.7           3.8            1.7           0.3   \n",
      "19  20            5.1           3.8            1.5           0.3   \n",
      "20  21            5.4           3.4            1.7           0.2   \n",
      "21  22            5.1           3.7            1.5           0.4   \n",
      "23  24            5.1           3.3            1.7           0.5   \n",
      "27  28            5.2           3.5            1.5           0.2   \n",
      "28  29            5.2           3.4            1.4           0.2   \n",
      "31  32            5.4           3.4            1.5           0.4   \n",
      "32  33            5.2           4.1            1.5           0.1   \n",
      "33  34            5.5           4.2            1.4           0.2   \n",
      "36  37            5.5           3.5            1.3           0.2   \n",
      "39  40            5.1           3.4            1.5           0.2   \n",
      "44  45            5.1           3.8            1.9           0.4   \n",
      "46  47            5.1           3.8            1.6           0.2   \n",
      "48  49            5.3           3.7            1.5           0.2   \n",
      "59  60            5.2           2.7            3.9           1.4   \n",
      "64  65            5.6           2.9            3.6           1.3   \n",
      "69  70            5.6           2.5            3.9           1.1   \n",
      "79  80            5.7           2.6            3.5           1.0   \n",
      "80  81            5.5           2.4            3.8           1.1   \n",
      "81  82            5.5           2.4            3.7           1.0   \n",
      "82  83            5.8           2.7            3.9           1.2   \n",
      "98  99            5.1           2.5            3.0           1.1   \n",
      "\n",
      "            Species  \n",
      "0       Iris-setosa  \n",
      "5       Iris-setosa  \n",
      "10      Iris-setosa  \n",
      "14      Iris-setosa  \n",
      "15      Iris-setosa  \n",
      "16      Iris-setosa  \n",
      "17      Iris-setosa  \n",
      "18      Iris-setosa  \n",
      "19      Iris-setosa  \n",
      "20      Iris-setosa  \n",
      "21      Iris-setosa  \n",
      "23      Iris-setosa  \n",
      "27      Iris-setosa  \n",
      "28      Iris-setosa  \n",
      "31      Iris-setosa  \n",
      "32      Iris-setosa  \n",
      "33      Iris-setosa  \n",
      "36      Iris-setosa  \n",
      "39      Iris-setosa  \n",
      "44      Iris-setosa  \n",
      "46      Iris-setosa  \n",
      "48      Iris-setosa  \n",
      "59  Iris-versicolor  \n",
      "64  Iris-versicolor  \n",
      "69  Iris-versicolor  \n",
      "79  Iris-versicolor  \n",
      "80  Iris-versicolor  \n",
      "81  Iris-versicolor  \n",
      "82  Iris-versicolor  \n",
      "98  Iris-versicolor  \n"
     ]
    }
   ],
   "source": [
    "# 1.\n",
    "df = pd.read_csv('Iris.csv')\n",
    "\n",
    "# 2.\n",
    "print(df.head(5))\n",
    "\n",
    "# 3.\n",
    "print(df.tail(5))\n",
    "\n",
    "# 4.\n",
    "print(df.query(\"SepalLengthCm > 5 & (PetalLengthCm > 1 & PetalLengthCm < 4) \"))\n"
   ]
  },
  {
   "cell_type": "code",
   "execution_count": null,
   "id": "aaaa4b14-2a90-4ecd-a338-19d9a266f6c6",
   "metadata": {},
   "outputs": [],
   "source": []
  }
 ],
 "metadata": {
  "kernelspec": {
   "display_name": "Python 3 (ipykernel)",
   "language": "python",
   "name": "python3"
  },
  "language_info": {
   "codemirror_mode": {
    "name": "ipython",
    "version": 3
   },
   "file_extension": ".py",
   "mimetype": "text/x-python",
   "name": "python",
   "nbconvert_exporter": "python",
   "pygments_lexer": "ipython3",
   "version": "3.11.5"
  }
 },
 "nbformat": 4,
 "nbformat_minor": 5
}
